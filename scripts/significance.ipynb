{
 "cells": [
  {
   "cell_type": "code",
   "execution_count": 31,
   "metadata": {},
   "outputs": [],
   "source": [
    "import pandas as pd\n",
    "from scipy import stats"
   ]
  },
  {
   "cell_type": "code",
   "execution_count": 32,
   "metadata": {},
   "outputs": [],
   "source": [
    "df_a = pd.read_csv('C:\\\\Users\\\\DaFon\\\\Desktop\\\\fulldata\\\\group-a\\\\output.csv')\n",
    "df_b = pd.read_csv('C:\\\\Users\\\\DaFon\\\\Desktop\\\\fulldata\\\\group-b\\\\output.csv')\n",
    "df_c = pd.read_csv('C:\\\\Users\\\\DaFon\\\\Desktop\\\\fulldata\\\\group-c\\\\output.csv')\n",
    "\n",
    "df_a = df_a[df_a['numberOfClicks'].notna()]\n",
    "df_b = df_b[df_b['numberOfClicks'].notna()]\n",
    "df_c = df_c[df_c['numberOfClicks'].notna()]"
   ]
  },
  {
   "cell_type": "code",
   "execution_count": 33,
   "metadata": {},
   "outputs": [],
   "source": [
    "groupA = df_a['confidence'].tolist()\n",
    "groupB = df_b['confidence'].tolist()\n",
    "groupC = df_c['confidence'].tolist()"
   ]
  },
  {
   "cell_type": "code",
   "execution_count": 34,
   "metadata": {},
   "outputs": [
    {
     "data": {
      "text/plain": [
       "KruskalResult(statistic=40.676506127671416, pvalue=1.469633093107449e-09)"
      ]
     },
     "execution_count": 34,
     "metadata": {},
     "output_type": "execute_result"
    }
   ],
   "source": [
    "# confidence (perform Kruskal-Wallis Test)\n",
    "stats.kruskal(groupA, groupB, groupC)\n",
    "# out: statistic=40.676506127671416, pvalue=0.000000001469633093107449"
   ]
  },
  {
   "cell_type": "code",
   "execution_count": 57,
   "metadata": {},
   "outputs": [],
   "source": [
    "groupA = df_a['numberOfClicks'].tolist()\n",
    "groupB = df_b['numberOfClicks'].tolist()\n",
    "groupC = df_c['numberOfClicks'].tolist()"
   ]
  },
  {
   "cell_type": "code",
   "execution_count": 58,
   "metadata": {},
   "outputs": [
    {
     "data": {
      "text/plain": [
       "F_onewayResult(statistic=13.519114568290567, pvalue=0.000336496306042689)"
      ]
     },
     "execution_count": 58,
     "metadata": {},
     "output_type": "execute_result"
    }
   ],
   "source": [
    "# number of clicks (perform ANOVA Test)\n",
    "stats.f_oneway(groupA, groupB, groupC)\n",
    "# out: statistic=34.04831610281524, pvalue=0.00000000000017074399801928227"
   ]
  },
  {
   "cell_type": "code",
   "execution_count": 59,
   "metadata": {},
   "outputs": [],
   "source": [
    "groupA = df_a['Total Search Time in s'].tolist()\n",
    "groupB = df_b['Total Search Time in s'].tolist()\n",
    "groupC = df_c['Total Search Time in s'].tolist()"
   ]
  },
  {
   "cell_type": "code",
   "execution_count": 60,
   "metadata": {},
   "outputs": [
    {
     "data": {
      "text/plain": [
       "F_onewayResult(statistic=4.484323808911796, pvalue=0.035987381219800524)"
      ]
     },
     "execution_count": 60,
     "metadata": {},
     "output_type": "execute_result"
    }
   ],
   "source": [
    "# total search time (perform ANOVA Test)\n",
    "stats.f_oneway(groupA, groupB, groupC)\n",
    "# out: statistic=13.833732697690383, pvalue=0.000002314012660737363"
   ]
  },
  {
   "cell_type": "code",
   "execution_count": 39,
   "metadata": {},
   "outputs": [
    {
     "data": {
      "text/plain": [
       "(33.193767136634,\n",
       " 6.195338631388445e-08,\n",
       " 2,\n",
       " array([[47.35096154, 48.76442308, 50.88461538],\n",
       "        [19.64903846, 20.23557692, 21.11538462]]))"
      ]
     },
     "execution_count": 39,
     "metadata": {},
     "output_type": "execute_result"
    }
   ],
   "source": [
    "# correct answer (perform chi-square Test)\n",
    "groupA_corr = df_a['response'].value_counts()[0]\n",
    "groupA_incorr = df_a['response'].value_counts()[1]\n",
    "groupB_corr = df_b['response'].value_counts()[0]\n",
    "groupB_incorr = df_b['response'].value_counts()[1]\n",
    "groupC_corr = df_c['response'].value_counts()[0]\n",
    "groupC_incorr = df_c['response'].value_counts()[1]\n",
    "\n",
    "table = [\n",
    "    [groupA_corr, groupB_corr, groupC_corr],\n",
    "    [groupA_incorr, groupB_incorr, groupC_incorr]\n",
    "]\n",
    "\n",
    "stats.chi2_contingency(table)\n",
    "# statistic=33.193767136634, pvalue=0.00000006195338631388445"
   ]
  },
  {
   "cell_type": "code",
   "execution_count": 40,
   "metadata": {},
   "outputs": [
    {
     "data": {
      "text/plain": [
       "(0.016169264608084526,\n",
       " 0.8988150116132508,\n",
       " 1,\n",
       " array([[40.12765957, 41.87234043],\n",
       "        [28.87234043, 30.12765957]]))"
      ]
     },
     "execution_count": 40,
     "metadata": {},
     "output_type": "execute_result"
    }
   ],
   "source": [
    "# correct answer between Group B & C (perform chi-square Test)\n",
    "groupB_corr = df_b['response'].value_counts()[0]\n",
    "groupB_incorr = df_b['response'].value_counts()[1]\n",
    "groupC_corr = df_c['response'].value_counts()[0]\n",
    "groupC_incorr = df_c['response'].value_counts()[1]\n",
    "\n",
    "table = [\n",
    "    [groupB_corr, groupC_corr],\n",
    "    [groupB_incorr, groupC_incorr]\n",
    "]\n",
    "\n",
    "stats.chi2_contingency(table)\n",
    "# statistic=0.016169264608084526, pvalue=0.8988150116132508, p > 0.05"
   ]
  },
  {
   "cell_type": "code",
   "execution_count": 41,
   "metadata": {},
   "outputs": [
    {
     "data": {
      "text/plain": [
       "MannwhitneyuResult(statistic=2247.0, pvalue=0.1481144037739175)"
      ]
     },
     "execution_count": 41,
     "metadata": {},
     "output_type": "execute_result"
    }
   ],
   "source": [
    "# confidence between Group B & C (perform Mann-Whitney U Test)\n",
    "groupB = df_b['confidence'].tolist()\n",
    "groupC = df_c['confidence'].tolist()\n",
    "stats.mannwhitneyu(groupB, groupC)\n",
    "# out: statistic=2247.0, pvalue=0.1481144037739175, p > 0.05"
   ]
  },
  {
   "cell_type": "code",
   "execution_count": 52,
   "metadata": {},
   "outputs": [
    {
     "name": "stdout",
     "output_type": "stream",
     "text": [
      "0.03437244826571395\n",
      "-0.0152414988261097\n",
      "0.08165303898082202\n"
     ]
    }
   ],
   "source": [
    "# correlation between age and total time (group A)\n",
    "time_a = stats.pearsonr(df_a['age'].tolist(), df_a['Total Search Time in s'].tolist())\n",
    "# r=0.03437244826571395\n",
    "# correlation between age and clicks (group A)\n",
    "clicks_a = stats.pearsonr(df_a['age'].tolist(), df_a['numberOfClicks'].tolist())\n",
    "# r=-0.0152414988261097\n",
    "# correlation between age and confidence (group A)\n",
    "conf_a = stats.pearsonr(df_a['age'].tolist(), df_a['confidence'].tolist())\n",
    "# r=0.08165303898082202\n",
    "print(time_a[0])\n",
    "print(clicks_a[0])\n",
    "print(conf_a[0])"
   ]
  },
  {
   "cell_type": "code",
   "execution_count": 53,
   "metadata": {},
   "outputs": [
    {
     "name": "stdout",
     "output_type": "stream",
     "text": [
      "0.07013655027985224\n",
      "-0.03163726668769788\n",
      "0.1671158580927923\n"
     ]
    }
   ],
   "source": [
    "df_b_age = df_b[df_b['age'].notna()]\n",
    "# correlation between age and total time (group B)\n",
    "time_b = stats.pearsonr(df_b_age['age'].tolist(), df_b_age['Total Search Time in s'].tolist())\n",
    "# r=0.07013655027985224\n",
    "# correlation between age and clicks (group B)\n",
    "clicks_b = stats.pearsonr(df_b_age['age'].tolist(), df_b_age['numberOfClicks'].tolist())\n",
    "# r=-0.03163726668769788\n",
    "# correlation between age and confidence (group B)\n",
    "conf_b = stats.pearsonr(df_b_age['age'].tolist(), df_b_age['confidence'].tolist())\n",
    "# r=0.1671158580927923\n",
    "print(time_b[0])\n",
    "print(clicks_b[0])\n",
    "print(conf_b[0])"
   ]
  },
  {
   "cell_type": "code",
   "execution_count": 54,
   "metadata": {},
   "outputs": [
    {
     "name": "stdout",
     "output_type": "stream",
     "text": [
      "0.14644886263265477\n",
      "-0.08062421678020187\n",
      "0.2537408939780802\n"
     ]
    }
   ],
   "source": [
    "# correlation between age and total time (group C)\n",
    "time_c = stats.pearsonr(df_c['age'].tolist(), df_c['Total Search Time in s'].tolist())\n",
    "# r=0.14644886263265477\n",
    "# correlation between age and clicks (group C)\n",
    "clicks_c = stats.pearsonr(df_c['age'].tolist(), df_c['numberOfClicks'].tolist())\n",
    "# r=-0.08062421678020187\n",
    "# correlation between age and confidence (group C)\n",
    "conf_c = stats.pearsonr(df_c['age'].tolist(), df_c['confidence'].tolist())\n",
    "# r=0.2537408939780802\n",
    "print(time_c[0])\n",
    "print(clicks_c[0])\n",
    "print(conf_c[0])"
   ]
  },
  {
   "cell_type": "code",
   "execution_count": null,
   "metadata": {},
   "outputs": [],
   "source": []
  }
 ],
 "metadata": {
  "kernelspec": {
   "display_name": "Python 3",
   "language": "python",
   "name": "python3"
  },
  "language_info": {
   "codemirror_mode": {
    "name": "ipython",
    "version": 3
   },
   "file_extension": ".py",
   "mimetype": "text/x-python",
   "name": "python",
   "nbconvert_exporter": "python",
   "pygments_lexer": "ipython3",
   "version": "3.7.6"
  }
 },
 "nbformat": 4,
 "nbformat_minor": 4
}
